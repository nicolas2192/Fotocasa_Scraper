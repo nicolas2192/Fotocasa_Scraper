{
 "cells": [
  {
   "cell_type": "code",
   "execution_count": 1,
   "metadata": {},
   "outputs": [],
   "source": [
    "from selenium import webdriver\n",
    "from selenium.webdriver.common.keys import Keys\n",
    "from selenium.webdriver.chrome.options import Options\n",
    "import bs4\n",
    "import time"
   ]
  },
  {
   "cell_type": "code",
   "execution_count": 2,
   "metadata": {},
   "outputs": [],
   "source": [
    "chrome_driver_path = \"../bin/chromedriver\"\n",
    "phantom_driver_path = \"../bin/phantomjs\"\n",
    "url = \"https://www.fotocasa.es/es/comprar/viviendas/madrid-capital/puerta-del-angel/l?latitude=40.4096&longitude=-3.7322\"\n",
    "\n",
    "#browser = webdriver.Chrome(driver_path)\n",
    "#browser.get(url)"
   ]
  },
  {
   "cell_type": "code",
   "execution_count": 14,
   "metadata": {},
   "outputs": [],
   "source": [
    "def initialize_browser(driver_path):\n",
    "    \"\"\"\n",
    "    \n",
    "    \"\"\"\n",
    "    opts = Options()\n",
    "    opts.headless = True\n",
    "    \n",
    "    #brw = webdriver.PhantomJS(driver_path)\n",
    "    brw = webdriver.Chrome(driver_path)\n",
    "    return brw"
   ]
  },
  {
   "cell_type": "code",
   "execution_count": 55,
   "metadata": {},
   "outputs": [],
   "source": [
    "def get_url(brw, url, secs=1, scrolls=30):\n",
    "    \"\"\"\n",
    "    \n",
    "    \"\"\"\n",
    "    brw.get(url)\n",
    "    \n",
    "    # Getting rid of cookies prompt\n",
    "    try:\n",
    "        time.sleep(secs)\n",
    "        btn_cookies = brw.find_element_by_xpath(\"/html/body/div[1]/div[5]/div/div/div/footer/div/button[2]\")\n",
    "        btn_cookies.click()\n",
    "    except:\n",
    "        pass\n",
    "    finally:\n",
    "        time.sleep(secs)\n",
    "        \n",
    "        \n",
    "        \n",
    "    body = browser.find_element_by_css_selector('body')\n",
    "    \n",
    "    for scroll in range(scrolls):\n",
    "        body.send_keys(Keys.PAGE_DOWN)\n",
    "    \n",
    "    return brw"
   ]
  },
  {
   "cell_type": "code",
   "execution_count": 60,
   "metadata": {},
   "outputs": [],
   "source": [
    "def retrieve_single_search_links(brw):\n",
    "    \"\"\"\n",
    "    \n",
    "    \"\"\"\n",
    "    \n",
    "    soup = bs4.BeautifulSoup(brw.page_source)\n",
    "    title = soup.find(\"h1\").text\n",
    "    print(title)\n",
    "    \n",
    "    # Search grid, all boxes with publications.\n",
    "    search_grid = soup.find_all(\"section\", attrs={\"class\", \"re-Searchresult\"})[0]\n",
    "    \n",
    "    # single box, each article is a publication.\n",
    "    articles = search_grid.find_all(\"article\")\n",
    "    \n",
    "    # look up for all publications links\n",
    "    # e.g.: /es/comprar/vivienda/madrid-capital/calefaccion-terraza-ascensor/160815858/d\n",
    "    clean_links = []\n",
    "    for article in articles:\n",
    "        links = article.find_all(\"a\")\n",
    "        try:\n",
    "            clean_links.append(links[0].get(\"href\"))\n",
    "        except Exception as e0:\n",
    "            clean_links.append(\"Error fetching link\")\n",
    "            print(str(e0))\n",
    "        \n",
    "    if len(articles) == len(clean_links):\n",
    "        print(\"All good\")\n",
    "    else:\n",
    "        print(\"Error\")\n",
    "        \n",
    "    return clean_links"
   ]
  },
  {
   "cell_type": "code",
   "execution_count": null,
   "metadata": {},
   "outputs": [],
   "source": [
    "def latitude_lomngitude(url):\n",
    "    \"\"\"\n",
    "    Return clean latitude and longitude values\n",
    "    \n",
    "    Parameters:\n",
    "        url: String. Fotocasa Url\n",
    "    \n",
    "    Returns:\n",
    "        list. Latitude and Longitude.  Integer??? or String???\n",
    "    \"\"\"\n",
    "    "
   ]
  },
  {
   "cell_type": "code",
   "execution_count": 63,
   "metadata": {},
   "outputs": [],
   "source": [
    "def retrieve_pagination(url, soup):\n",
    "    \"\"\"\n",
    "    \n",
    "    \"\"\"\n",
    "    next_pages = soup.find_all(\"a\", attrs={\"class\": \"sui-LinkBasic sui-AtomButton sui-AtomButton--neutral sui-AtomButton--outline sui-AtomButton--center sui-AtomButton--small sui-AtomButton--link\"})\n",
    "    last_page = int(sorted([page.text for page in next_pages], reverse=True)[0])\n",
    "    \n",
    "    # return pagination as a list, regex time\n",
    "    \n",
    "    # https://www.fotocasa.es/es/comprar/viviendas/madrid-capital/puerta-del-angel/l?latitude=40.4096&longitude=-3.7322\n",
    "    # https://www.fotocasa.es/es/comprar/viviendas/madrid-capital/puerta-del-angel/l/2?latitude=40.4096&longitude=-3.7322\n",
    "    # https://www.fotocasa.es/es/comprar/viviendas/madrid-capital/puerta-del-angel/l/3?latitude=40.4096&longitude=-3.7322\n",
    "    return last_page"
   ]
  },
  {
   "cell_type": "code",
   "execution_count": 62,
   "metadata": {},
   "outputs": [
    {
     "name": "stdout",
     "output_type": "stream",
     "text": [
      "Fetching time: 6.49 seconds\n",
      "189 Viviendas y casas en venta en Puerta del Ángel, Madrid Capital\n",
      "All good\n"
     ]
    },
    {
     "data": {
      "text/plain": [
       "['/es/comprar/vivienda/madrid-capital/calefaccion-terraza-ascensor-amueblado/161006223/d',\n",
       " '/es/comprar/vivienda/madrid-capital/aire-acondicionado-calefaccion-terraza/160650389/d',\n",
       " '/es/comprar/vivienda/madrid-capital/aire-acondicionado-parking-terraza-trastero-ascensor-parking/155652404/d',\n",
       " '/es/comprar/vivienda/madrid-capital/calefaccion-trastero-ascensor/161289379/d',\n",
       " '/es/comprar/vivienda/madrid-capital/patio/158987743/d',\n",
       " '/es/comprar/vivienda/madrid-capital/aire-acondicionado-calefaccion-terraza-ascensor/161269395/d',\n",
       " '/es/comprar/vivienda/madrid-capital/aire-acondicionado-calefaccion-terraza/161258529/d',\n",
       " '/es/comprar/vivienda/madrid-capital/calefaccion-ascensor/161208593/d',\n",
       " '/es/comprar/vivienda/madrid-capital/ascensor/161207606/d',\n",
       " '/es/comprar/vivienda/madrid-capital/aire-acondicionado/160979192/d',\n",
       " '/es/comprar/vivienda/madrid-capital/trastero-patio/154847325/d',\n",
       " '/es/comprar/vivienda/madrid-capital/calefaccion-terraza-amueblado/161361363/d',\n",
       " '/es/comprar/vivienda/madrid-capital/puerta-del-angel/160675193/d',\n",
       " '/es/comprar/vivienda/madrid-capital/terraza/154009595/d',\n",
       " '/es/comprar/vivienda/madrid-capital/terraza-ascensor/160411870/d',\n",
       " '/es/comprar/vivienda/madrid-capital/aire-acondicionado-calefaccion/161259010/d',\n",
       " '/es/comprar/vivienda/madrid-capital/puerta-del-angel/156007643/d',\n",
       " '/es/comprar/vivienda/madrid-capital/aire-acondicionado-amueblado/160135318/d',\n",
       " '/es/comprar/vivienda/madrid-capital/puerta-del-angel/158815485/d',\n",
       " '/es/comprar/vivienda/madrid-capital/amueblado/155344274/d',\n",
       " '/es/comprar/vivienda/madrid-capital/puerta-del-angel/157137318/d',\n",
       " '/es/comprar/vivienda/madrid-capital/aire-acondicionado-calefaccion-parking-trastero-patio-amueblado-television-se-aceptan-mascotas-internet/156625863/d',\n",
       " '/es/comprar/vivienda/madrid-capital/puerta-del-angel/161002703/d',\n",
       " '/es/comprar/vivienda/madrid-capital/calefaccion/160652405/d',\n",
       " '/es/comprar/vivienda/madrid-capital/aire-acondicionado-calefaccion/161052494/d',\n",
       " '/es/comprar/vivienda/madrid-capital/jardin-patio/160803717/d',\n",
       " '/es/comprar/vivienda/madrid-capital/puerta-del-angel/161351648/d',\n",
       " '/es/comprar/vivienda/madrid-capital/aire-acondicionado-calefaccion/161350755/d',\n",
       " '/es/comprar/vivienda/madrid-capital/aire-acondicionado-calefaccion-amueblado/161350179/d',\n",
       " '/es/comprar/vivienda/madrid-capital/aire-acondicionado-calefaccion-terraza/159845275/d']"
      ]
     },
     "execution_count": 62,
     "metadata": {},
     "output_type": "execute_result"
    }
   ],
   "source": [
    "browser = initialize_browser(driver_path=chrome_driver_path)\n",
    "t1 = time.time()\n",
    "browser = get_url(brw=browser, url=url, secs=1)\n",
    "print(\"Fetching time:\", round(time.time() - t1, 2), \"seconds\")\n",
    "clean_links = retrieve_single_search_links(browser)\n",
    "clean_links"
   ]
  },
  {
   "cell_type": "code",
   "execution_count": 34,
   "metadata": {},
   "outputs": [
    {
     "data": {
      "text/plain": [
       "'189 Viviendas y casas en venta en Puerta del Ángel, Madrid Capital'"
      ]
     },
     "execution_count": 34,
     "metadata": {},
     "output_type": "execute_result"
    }
   ],
   "source": [
    "soup = bs4.BeautifulSoup(browser.page_source)\n",
    "title = soup.find(\"h1\").text\n",
    "title"
   ]
  },
  {
   "cell_type": "code",
   "execution_count": 35,
   "metadata": {},
   "outputs": [],
   "source": [
    "search_grid = soup.find_all(\"section\", attrs={\"class\", \"re-Searchresult\"})[0]"
   ]
  },
  {
   "cell_type": "code",
   "execution_count": 36,
   "metadata": {},
   "outputs": [
    {
     "data": {
      "text/plain": [
       "30"
      ]
     },
     "execution_count": 36,
     "metadata": {},
     "output_type": "execute_result"
    }
   ],
   "source": [
    "articles = search_grid.find_all(\"article\")\n",
    "len(articles)"
   ]
  },
  {
   "cell_type": "code",
   "execution_count": 37,
   "metadata": {},
   "outputs": [
    {
     "name": "stdout",
     "output_type": "stream",
     "text": [
      "\n",
      "\n",
      "/es/comprar/vivienda/madrid-capital/calefaccion-terraza-ascensor-amueblado/161006223/d\n",
      "/es/inmobiliaria-vivienda2/comprar/inmuebles/espana/todas-las-zonas/l?clientId=900140001052\n",
      "/es/comprar/vivienda/madrid-capital/calefaccion-terraza-ascensor-amueblado/161006223/d\n",
      "tel:912188602\n",
      "\n",
      "\n",
      "/es/comprar/vivienda/madrid-capital/aire-acondicionado-calefaccion-terraza/160650389/d\n",
      "/es/inmobiliaria-gespain/comprar/inmuebles/espana/todas-las-zonas/l?clientId=500180069109\n",
      "/es/comprar/vivienda/madrid-capital/aire-acondicionado-calefaccion-terraza/160650389/d\n",
      "tel:912788617\n",
      "\n",
      "\n",
      "/es/comprar/vivienda/madrid-capital/aire-acondicionado-parking-terraza-trastero-ascensor-parking/155652404/d\n",
      "/es/inmobiliaria-inmoges/comprar/inmuebles/espana/todas-las-zonas/l?clientId=500180003366\n",
      "/es/comprar/vivienda/madrid-capital/aire-acondicionado-parking-terraza-trastero-ascensor-parking/155652404/d\n",
      "tel:911793425\n",
      "\n",
      "\n",
      "/es/comprar/vivienda/madrid-capital/calefaccion-trastero-ascensor/161289379/d\n",
      "/es/inmobiliaria-gespromar/comprar/inmuebles/espana/todas-las-zonas/l?clientId=9202762554211\n",
      "/es/comprar/vivienda/madrid-capital/calefaccion-trastero-ascensor/161289379/d\n",
      "tel:911369921\n",
      "\n",
      "\n",
      "/es/comprar/vivienda/madrid-capital/patio/158987743/d\n",
      "/es/inmobiliaria-100-home-red-inmobiliaria/comprar/inmuebles/espana/todas-las-zonas/l?clientId=9202754519753\n",
      "/es/comprar/vivienda/madrid-capital/patio/158987743/d\n",
      "tel:912669623\n",
      "\n",
      "\n",
      "/es/comprar/vivienda/madrid-capital/aire-acondicionado-calefaccion-terraza-ascensor/161269395/d\n",
      "/es/inmobiliaria-redpiso-paseo-de-extremadura/comprar/inmuebles/espana/todas-las-zonas/l?clientId=9202758749850\n",
      "/es/comprar/vivienda/madrid-capital/aire-acondicionado-calefaccion-terraza-ascensor/161269395/d\n",
      "tel:910759361\n",
      "\n",
      "\n",
      "/es/comprar/vivienda/madrid-capital/aire-acondicionado-calefaccion-terraza/161258529/d\n",
      "/es/inmobiliaria-redpiso-paseo-de-extremadura/comprar/inmuebles/espana/todas-las-zonas/l?clientId=9202758749850\n",
      "/es/comprar/vivienda/madrid-capital/aire-acondicionado-calefaccion-terraza/161258529/d\n",
      "tel:910759361\n",
      "\n",
      "\n",
      "/es/comprar/vivienda/madrid-capital/calefaccion-ascensor/161208593/d\n",
      "/es/inmobiliaria-redpiso-puerta-del-angel/comprar/inmuebles/espana/todas-las-zonas/l?clientId=9202758742576\n",
      "/es/comprar/vivienda/madrid-capital/calefaccion-ascensor/161208593/d\n",
      "tel:910759518\n",
      "\n",
      "\n",
      "/es/comprar/vivienda/madrid-capital/ascensor/161207606/d\n",
      "/es/inmobiliaria-redpiso-puerta-del-angel/comprar/inmuebles/espana/todas-las-zonas/l?clientId=9202758742576\n",
      "/es/comprar/vivienda/madrid-capital/ascensor/161207606/d\n",
      "tel:910759518\n",
      "\n",
      "\n",
      "/es/comprar/vivienda/madrid-capital/aire-acondicionado/160979192/d\n",
      "/es/inmobiliaria-bafre-gestion-y-servicios-inmobiliarios/comprar/inmuebles/espana/todas-las-zonas/l?clientId=9202757848735\n",
      "/es/comprar/vivienda/madrid-capital/aire-acondicionado/160979192/d\n",
      "tel:910752245\n",
      "\n",
      "\n",
      "/es/comprar/vivienda/madrid-capital/trastero-patio/154847325/d\n",
      "/es/comprar/vivienda/madrid-capital/trastero-patio/154847325/d\n",
      "tel:911799841\n",
      "\n",
      "\n",
      "/es/comprar/vivienda/madrid-capital/calefaccion-terraza-amueblado/161361363/d\n",
      "/es/inmobiliaria-mas-vida/comprar/inmuebles/espana/todas-las-zonas/l?clientId=9202762484339\n",
      "/es/comprar/vivienda/madrid-capital/calefaccion-terraza-amueblado/161361363/d\n",
      "tel:911798853\n",
      "\n",
      "\n",
      "/es/comprar/vivienda/madrid-capital/terraza/154009595/d\n",
      "/es/inmobiliaria-vivantial/comprar/inmuebles/espana/todas-las-zonas/l?clientId=9202752621046\n",
      "/es/comprar/vivienda/madrid-capital/terraza/154009595/d\n",
      "tel:911368467\n",
      "\n",
      "\n",
      "/es/comprar/vivienda/madrid-capital/terraza-ascensor/160411870/d\n",
      "/es/inmobiliaria-vivantial/comprar/inmuebles/espana/todas-las-zonas/l?clientId=9202752621046\n",
      "/es/comprar/vivienda/madrid-capital/terraza-ascensor/160411870/d\n",
      "tel:911368467\n",
      "\n",
      "\n",
      "/es/comprar/vivienda/madrid-capital/aire-acondicionado-calefaccion/161259010/d\n",
      "/es/comprar/vivienda/madrid-capital/aire-acondicionado-calefaccion/161259010/d\n",
      "tel:918007061\n",
      "\n",
      "\n",
      "/es/comprar/vivienda/madrid-capital/puerta-del-angel/156007643/d\n",
      "/es/inmobiliaria-aliseda-servicios-de-gestion-inmobiliaria/comprar/inmuebles/espana/todas-las-zonas/l?clientId=9202764129743\n",
      "/es/comprar/vivienda/madrid-capital/puerta-del-angel/156007643/d\n",
      "tel:911227139\n",
      "\n",
      "\n",
      "/es/comprar/vivienda/madrid-capital/aire-acondicionado-amueblado/160135318/d\n",
      "/es/inmobiliaria-gilmar-calderon/comprar/inmuebles/espana/todas-las-zonas/l?clientId=9202750829701\n",
      "/es/comprar/vivienda/madrid-capital/aire-acondicionado-amueblado/160135318/d\n",
      "tel:912788014\n",
      "\n",
      "\n",
      "/es/comprar/vivienda/madrid-capital/puerta-del-angel/158815485/d\n",
      "/es/inmobiliaria-mr-house/comprar/inmuebles/espana/todas-las-zonas/l?clientId=9202752502738\n",
      "/es/comprar/vivienda/madrid-capital/puerta-del-angel/158815485/d\n",
      "tel:912786085\n",
      "\n",
      "\n",
      "/es/comprar/vivienda/madrid-capital/amueblado/155344274/d\n",
      "/es/inmobiliaria-aliseda-servicios-de-gestion-inmobiliaria/comprar/inmuebles/espana/todas-las-zonas/l?clientId=9202764129743\n",
      "/es/comprar/vivienda/madrid-capital/amueblado/155344274/d\n",
      "tel:911227139\n",
      "\n",
      "\n",
      "/es/comprar/vivienda/madrid-capital/puerta-del-angel/157137318/d\n",
      "/es/inmobiliaria-hola-pisos/comprar/inmuebles/espana/todas-las-zonas/l?clientId=9202754340204\n",
      "/es/comprar/vivienda/madrid-capital/puerta-del-angel/157137318/d\n",
      "tel:935432140\n",
      "\n",
      "\n",
      "/es/comprar/vivienda/madrid-capital/aire-acondicionado-calefaccion-parking-trastero-patio-amueblado-television-se-aceptan-mascotas-internet/156625863/d\n",
      "/es/inmobiliaria-gilmar-calderon/comprar/inmuebles/espana/todas-las-zonas/l?clientId=9202750829701\n",
      "/es/comprar/vivienda/madrid-capital/aire-acondicionado-calefaccion-parking-trastero-patio-amueblado-television-se-aceptan-mascotas-internet/156625863/d\n",
      "tel:912788014\n",
      "\n",
      "\n",
      "/es/comprar/vivienda/madrid-capital/puerta-del-angel/161002703/d\n",
      "/es/inmobiliaria-inmogestion/comprar/inmuebles/espana/todas-las-zonas/l?clientId=9202751176810\n",
      "/es/comprar/vivienda/madrid-capital/puerta-del-angel/161002703/d\n",
      "tel:984339032\n",
      "\n",
      "\n",
      "/es/comprar/vivienda/madrid-capital/calefaccion/160652405/d\n",
      "/es/inmobiliaria-100-home-red-inmobiliaria/comprar/inmuebles/espana/todas-las-zonas/l?clientId=9202754519753\n",
      "/es/comprar/vivienda/madrid-capital/calefaccion/160652405/d\n",
      "tel:912669623\n",
      "\n",
      "\n",
      "/es/comprar/vivienda/madrid-capital/aire-acondicionado-calefaccion/161052494/d\n",
      "/es/comprar/vivienda/madrid-capital/aire-acondicionado-calefaccion/161052494/d\n",
      "tel:918007061\n",
      "\n",
      "\n",
      "/es/comprar/vivienda/madrid-capital/jardin-patio/160803717/d\n",
      "/es/inmobiliaria-gh-casas/comprar/inmuebles/espana/todas-las-zonas/l?clientId=9202762513703\n",
      "/es/comprar/vivienda/madrid-capital/jardin-patio/160803717/d\n",
      "tel:912182514\n",
      "\n",
      "\n",
      "/es/comprar/vivienda/madrid-capital/puerta-del-angel/161351648/d\n",
      "/es/inmobiliaria-plataforma-alianza-madrid/comprar/inmuebles/espana/todas-las-zonas/l?clientId=9202758366915\n",
      "/es/comprar/vivienda/madrid-capital/puerta-del-angel/161351648/d\n",
      "tel:910756749\n",
      "\n",
      "\n",
      "/es/comprar/vivienda/madrid-capital/aire-acondicionado-calefaccion/161350755/d\n",
      "/es/inmobiliaria-redpiso-paseo-de-extremadura/comprar/inmuebles/espana/todas-las-zonas/l?clientId=9202758749850\n",
      "/es/comprar/vivienda/madrid-capital/aire-acondicionado-calefaccion/161350755/d\n",
      "tel:910759361\n",
      "\n",
      "\n",
      "/es/comprar/vivienda/madrid-capital/aire-acondicionado-calefaccion-amueblado/161350179/d\n",
      "/es/comprar/vivienda/madrid-capital/aire-acondicionado-calefaccion-amueblado/161350179/d\n",
      "\n",
      "\n",
      "/es/comprar/vivienda/madrid-capital/aire-acondicionado-calefaccion-terraza/159845275/d\n",
      "/es/inmobiliaria-r-house-ensanche-sur/comprar/inmuebles/espana/todas-las-zonas/l?clientId=9202756545225\n",
      "/es/comprar/vivienda/madrid-capital/aire-acondicionado-calefaccion-terraza/159845275/d\n",
      "tel:914871874\n",
      "\n",
      "\n",
      "/es/comprar/vivienda/madrid-capital/aire-acondicionado/157487600/d\n",
      "/es/comprar/vivienda/madrid-capital/aire-acondicionado/157487600/d\n",
      "tel:918007061\n"
     ]
    }
   ],
   "source": [
    "clean_links = []\n",
    "for article in articles:\n",
    "    links = article.find_all(\"a\")\n",
    "    print(\"\\n\")\n",
    "    for link in links:\n",
    "        print(link.get(\"href\"))\n",
    "    clean_links.append(links[0].get(\"href\"))"
   ]
  },
  {
   "cell_type": "code",
   "execution_count": 38,
   "metadata": {},
   "outputs": [
    {
     "data": {
      "text/plain": [
       "30"
      ]
     },
     "execution_count": 38,
     "metadata": {},
     "output_type": "execute_result"
    }
   ],
   "source": [
    "len(clean_links)"
   ]
  },
  {
   "cell_type": "code",
   "execution_count": 39,
   "metadata": {},
   "outputs": [
    {
     "data": {
      "text/plain": [
       "['/es/comprar/vivienda/madrid-capital/calefaccion-terraza-ascensor-amueblado/161006223/d',\n",
       " '/es/comprar/vivienda/madrid-capital/aire-acondicionado-calefaccion-terraza/160650389/d',\n",
       " '/es/comprar/vivienda/madrid-capital/aire-acondicionado-parking-terraza-trastero-ascensor-parking/155652404/d',\n",
       " '/es/comprar/vivienda/madrid-capital/calefaccion-trastero-ascensor/161289379/d',\n",
       " '/es/comprar/vivienda/madrid-capital/patio/158987743/d',\n",
       " '/es/comprar/vivienda/madrid-capital/aire-acondicionado-calefaccion-terraza-ascensor/161269395/d',\n",
       " '/es/comprar/vivienda/madrid-capital/aire-acondicionado-calefaccion-terraza/161258529/d',\n",
       " '/es/comprar/vivienda/madrid-capital/calefaccion-ascensor/161208593/d',\n",
       " '/es/comprar/vivienda/madrid-capital/ascensor/161207606/d',\n",
       " '/es/comprar/vivienda/madrid-capital/aire-acondicionado/160979192/d',\n",
       " '/es/comprar/vivienda/madrid-capital/trastero-patio/154847325/d',\n",
       " '/es/comprar/vivienda/madrid-capital/calefaccion-terraza-amueblado/161361363/d',\n",
       " '/es/comprar/vivienda/madrid-capital/terraza/154009595/d',\n",
       " '/es/comprar/vivienda/madrid-capital/terraza-ascensor/160411870/d',\n",
       " '/es/comprar/vivienda/madrid-capital/aire-acondicionado-calefaccion/161259010/d',\n",
       " '/es/comprar/vivienda/madrid-capital/puerta-del-angel/156007643/d',\n",
       " '/es/comprar/vivienda/madrid-capital/aire-acondicionado-amueblado/160135318/d',\n",
       " '/es/comprar/vivienda/madrid-capital/puerta-del-angel/158815485/d',\n",
       " '/es/comprar/vivienda/madrid-capital/amueblado/155344274/d',\n",
       " '/es/comprar/vivienda/madrid-capital/puerta-del-angel/157137318/d',\n",
       " '/es/comprar/vivienda/madrid-capital/aire-acondicionado-calefaccion-parking-trastero-patio-amueblado-television-se-aceptan-mascotas-internet/156625863/d',\n",
       " '/es/comprar/vivienda/madrid-capital/puerta-del-angel/161002703/d',\n",
       " '/es/comprar/vivienda/madrid-capital/calefaccion/160652405/d',\n",
       " '/es/comprar/vivienda/madrid-capital/aire-acondicionado-calefaccion/161052494/d',\n",
       " '/es/comprar/vivienda/madrid-capital/jardin-patio/160803717/d',\n",
       " '/es/comprar/vivienda/madrid-capital/puerta-del-angel/161351648/d',\n",
       " '/es/comprar/vivienda/madrid-capital/aire-acondicionado-calefaccion/161350755/d',\n",
       " '/es/comprar/vivienda/madrid-capital/aire-acondicionado-calefaccion-amueblado/161350179/d',\n",
       " '/es/comprar/vivienda/madrid-capital/aire-acondicionado-calefaccion-terraza/159845275/d',\n",
       " '/es/comprar/vivienda/madrid-capital/aire-acondicionado/157487600/d']"
      ]
     },
     "execution_count": 39,
     "metadata": {},
     "output_type": "execute_result"
    }
   ],
   "source": [
    "clean_links"
   ]
  },
  {
   "cell_type": "code",
   "execution_count": 44,
   "metadata": {},
   "outputs": [],
   "source": [
    "next_pages = soup.find_all(\"a\", attrs={\"class\": \"sui-LinkBasic sui-AtomButton sui-AtomButton--neutral sui-AtomButton--outline sui-AtomButton--center sui-AtomButton--small sui-AtomButton--link\"})"
   ]
  },
  {
   "cell_type": "code",
   "execution_count": 51,
   "metadata": {},
   "outputs": [
    {
     "data": {
      "text/plain": [
       "7"
      ]
     },
     "execution_count": 51,
     "metadata": {},
     "output_type": "execute_result"
    }
   ],
   "source": [
    "last_page = int(sorted([page.text for page in next_pages], reverse=True)[0])"
   ]
  }
 ],
 "metadata": {
  "kernelspec": {
   "display_name": "Python [conda env:labs_env]",
   "language": "python",
   "name": "conda-env-labs_env-py"
  },
  "language_info": {
   "codemirror_mode": {
    "name": "ipython",
    "version": 3
   },
   "file_extension": ".py",
   "mimetype": "text/x-python",
   "name": "python",
   "nbconvert_exporter": "python",
   "pygments_lexer": "ipython3",
   "version": "3.7.5"
  }
 },
 "nbformat": 4,
 "nbformat_minor": 2
}
